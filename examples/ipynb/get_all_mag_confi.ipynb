{
 "cells": [
  {
   "cell_type": "code",
   "execution_count": 1,
   "metadata": {},
   "outputs": [],
   "source": [
    "from sagar.crystal.derive import ConfigurationGenerator\n",
    "from sagar.io.vasp import read_vasp\n",
    "from sagar.crystal.structure import symbol2number as s2n\n",
    "import numpy as np\n",
    "from random import randint\n",
    "import os\n",
    "import shutil"
   ]
  },
  {
   "cell_type": "code",
   "execution_count": 2,
   "metadata": {},
   "outputs": [],
   "source": [
    "def _get_sites(atoms, mag_atom, sub_atom):\n",
    "    return [tuple(set([i, sub_atom]))  if i == mag_atom else (i,) for i in atoms ]"
   ]
  },
  {
   "cell_type": "code",
   "execution_count": 3,
   "metadata": {},
   "outputs": [],
   "source": [
    "def _get_correspond(A,B):\n",
    "    idx = []\n",
    "    for ii in A:\n",
    "        tmp = np.linalg.norm(ii - B,axis=1)\n",
    "        q0,q1 = np.where(abs(tmp)<1e-3)[0],np.where(abs(tmp-1)<1e-3)[0]\n",
    "        n0 = np.size(q0)\n",
    "        if n0: \n",
    "            idx.append(q0[0]) \n",
    "        else: \n",
    "            idx.append(q1[0])\n",
    "    return idx"
   ]
  },
  {
   "cell_type": "code",
   "execution_count": 4,
   "metadata": {},
   "outputs": [],
   "source": [
    "symprec = 1e-3\n",
    "comprec = 1e-3\n",
    "mag_element = 'Cr'\n",
    "mag_num = s2n(mag_element)\n",
    "substitutes = np.setdiff1d(np.arange(1,89),mag_num)[randint(1,88)]\n",
    "folder = 'all_mag_confi'"
   ]
  },
  {
   "cell_type": "code",
   "execution_count": 5,
   "metadata": {},
   "outputs": [],
   "source": [
    "cell = read_vasp('POSCAR_not_work.vasp')\n",
    "cg = ConfigurationGenerator(cell, symprec)\n",
    "sites = _get_sites(list(cell.atoms), mag_num,substitutes)\n",
    "mag_number = len(np.where(cell.atoms == mag_num)[0])\n",
    "pos = cell.positions"
   ]
  },
  {
   "cell_type": "code",
   "execution_count": 6,
   "metadata": {},
   "outputs": [],
   "source": [
    "if not os.path.exists('./'+folder):\n",
    "    os.mkdir('./'+folder)\n",
    "else:\n",
    "    shutil.rmtree('./'+folder)\n",
    "    os.mkdir('./'+folder)"
   ]
  },
  {
   "cell_type": "code",
   "execution_count": 7,
   "metadata": {},
   "outputs": [],
   "source": [
    "idx = 0   \n",
    "for sub_num in range(1, mag_number//2+1):\n",
    "    confs = cg.cons_specific_cell(sites,e_num=(mag_number-sub_num,sub_num),symprec=symprec)\n",
    "    for c, _ in confs:\n",
    "        filename = os.path.join('./'+folder, 'INCAR' + str(idx))\n",
    "        corre_idx = _get_correspond(pos, c.positions)\n",
    "        _atoms = c.atoms[corre_idx]\n",
    "        mag_para = ['-1' if i == mag_num else '1' for i in _atoms]\n",
    "        mag_para = ' '.join(mag_para)\n",
    "        with open(filename,'w') as f:\n",
    "            f.writelines('MAG= ' + mag_para)\n",
    "        idx += 1"
   ]
  }
 ],
 "metadata": {
  "kernelspec": {
   "display_name": "Python 3",
   "language": "python",
   "name": "python3"
  },
  "language_info": {
   "codemirror_mode": {
    "name": "ipython",
    "version": 3
   },
   "file_extension": ".py",
   "mimetype": "text/x-python",
   "name": "python",
   "nbconvert_exporter": "python",
   "pygments_lexer": "ipython3",
   "version": "3.6.5"
  }
 },
 "nbformat": 4,
 "nbformat_minor": 2
}
