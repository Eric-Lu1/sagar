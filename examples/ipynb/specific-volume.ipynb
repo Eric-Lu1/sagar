{
 "cells": [
  {
   "cell_type": "markdown",
   "metadata": {},
   "source": [
    "# 导入必要的库"
   ]
  },
  {
   "cell_type": "code",
   "execution_count": 1,
   "metadata": {},
   "outputs": [],
   "source": [
    "from sagar.crystal.derive import ConfigurationGenerator\n",
    "from sagar.io.vasp import read_vasp, write_vasp\n",
    "from sagar.crystal.structure import symbol2number as s2n\n",
    "\n",
    "import os\n",
    "import shutil"
   ]
  },
  {
   "cell_type": "code",
   "execution_count": 2,
   "metadata": {},
   "outputs": [],
   "source": [
    "def _get_sites(atoms, l_sub):\n",
    "    return [tuple(set([i]+l_sub)) for i in atoms]"
   ]
  },
  {
   "cell_type": "code",
   "execution_count": 3,
   "metadata": {},
   "outputs": [],
   "source": [
    "symprec = 1e-3\n",
    "comprec = 1e-3\n",
    "element = 'C'\n",
    "substitutes = 'B'\n",
    "\n",
    "dimension = 2\n",
    "volume = 4\n",
    "\n",
    "comment = 'CxBy'\n",
    "folder = 'specific-volume'"
   ]
  },
  {
   "cell_type": "code",
   "execution_count": 4,
   "metadata": {},
   "outputs": [],
   "source": [
    "cell = read_vasp(\"./primitive_cell.vasp\")\n",
    "cg = ConfigurationGenerator(cell, symprec) \n",
    "sites = _get_sites(list(cell.atoms),  [s2n(i) for i in substitutes])"
   ]
  },
  {
   "cell_type": "code",
   "execution_count": 5,
   "metadata": {},
   "outputs": [],
   "source": [
    "if not os.path.exists('./'+folder):\n",
    "    os.mkdir('./'+folder)\n",
    "else:\n",
    "    shutil.rmtree('./'+folder)\n",
    "    os.mkdir('./'+folder)"
   ]
  },
  {
   "cell_type": "code",
   "execution_count": 6,
   "metadata": {},
   "outputs": [],
   "source": [
    "confs = cg.cons_specific_volume(sites=sites, volume=volume, e_num=(4, 4), dimension=dimension, symprec=symprec)\n",
    "idx = 0\n",
    "for c, _ in confs:\n",
    "    filename = '{:s}_id{:d}'.format(comment, idx)\n",
    "    file = os.path.join('./'+folder, filename)\n",
    "    write_vasp(c, file)\n",
    "    idx += 1"
   ]
  }
 ],
 "metadata": {
  "kernelspec": {
   "display_name": "Python 3",
   "language": "python",
   "name": "python3"
  },
  "language_info": {
   "codemirror_mode": {
    "name": "ipython",
    "version": 3
   },
   "file_extension": ".py",
   "mimetype": "text/x-python",
   "name": "python",
   "nbconvert_exporter": "python",
   "pygments_lexer": "ipython3",
   "version": "3.6.5"
  }
 },
 "nbformat": 4,
 "nbformat_minor": 2
}
