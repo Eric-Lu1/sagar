{
 "cells": [
  {
   "cell_type": "code",
   "execution_count": 1,
   "metadata": {},
   "outputs": [],
   "source": [
    "from sagar.crystal.derive import ConfigurationGenerator\n",
    "from sagar.io.vasp import read_vasp, write_vasp\n",
    "from sagar.crystal.structure import symbol2number as s2n\n",
    "\n",
    "import os\n",
    "import shutil"
   ]
  },
  {
   "cell_type": "code",
   "execution_count": 2,
   "metadata": {},
   "outputs": [],
   "source": [
    "def _get_sites(l_atoms, ele, l_sub):\n",
    "    ele_n = s2n(ele)\n",
    "    l_sub_n = [s2n(sub_n) for sub_n in l_sub]\n",
    "    sites = []\n",
    "    for a in l_atoms:\n",
    "        if a == ele_n:\n",
    "            sites.append(tuple([a] + l_sub_n))\n",
    "        else:\n",
    "            sites.append(tuple([a]))\n",
    "    return sites"
   ]
  },
  {
   "cell_type": "code",
   "execution_count": 3,
   "metadata": {},
   "outputs": [],
   "source": [
    "symprec = 1e-3\n",
    "comprec = 1e-3\n",
    "element = 'C'\n",
    "substitutes = 'B'\n",
    "\n",
    "dimension = 2\n",
    "min_v = 7\n",
    "max_v = 8\n",
    "\n",
    "comment = 'cb'"
   ]
  },
  {
   "cell_type": "code",
   "execution_count": 1,
   "metadata": {},
   "outputs": [
    {
     "ename": "NameError",
     "evalue": "name 'read_vasp' is not defined",
     "output_type": "error",
     "traceback": [
      "\u001b[0;31m---------------------------------------------------------------------------\u001b[0m",
      "\u001b[0;31mNameError\u001b[0m                                 Traceback (most recent call last)",
      "\u001b[0;32m<ipython-input-1-42f38b6f76c9>\u001b[0m in \u001b[0;36m<module>\u001b[0;34m()\u001b[0m\n\u001b[0;32m----> 1\u001b[0;31m \u001b[0mcell\u001b[0m \u001b[0;34m=\u001b[0m \u001b[0mread_vasp\u001b[0m\u001b[0;34m(\u001b[0m\u001b[0;34m\"./graphene.vasp\"\u001b[0m\u001b[0;34m)\u001b[0m\u001b[0;34m\u001b[0m\u001b[0m\n\u001b[0m\u001b[1;32m      2\u001b[0m \u001b[0mcg\u001b[0m \u001b[0;34m=\u001b[0m \u001b[0mConfigurationGenerator\u001b[0m\u001b[0;34m(\u001b[0m\u001b[0mcell\u001b[0m\u001b[0;34m,\u001b[0m \u001b[0msymprec\u001b[0m\u001b[0;34m)\u001b[0m\u001b[0;34m\u001b[0m\u001b[0m\n",
      "\u001b[0;31mNameError\u001b[0m: name 'read_vasp' is not defined"
     ]
    }
   ],
   "source": [
    "cell = read_vasp(\"./graphene.vasp\")\n",
    "cg = ConfigurationGenerator(cell, symprec)"
   ]
  },
  {
   "cell_type": "code",
   "execution_count": 5,
   "metadata": {},
   "outputs": [],
   "source": [
    "sites = _get_sites(list(cell.atoms), element, substitutes)\n",
    "confs = cg.cons_max_volume(\n",
    "    sites, max_v, min_volume=min_v, dimension=dimension, symprec=symprec)"
   ]
  },
  {
   "cell_type": "code",
   "execution_count": 6,
   "metadata": {},
   "outputs": [],
   "source": [
    "if not os.path.exists('./graphene-B-v7v8'):\n",
    "    os.mkdir('./graphene-B-v7v8')\n",
    "else:\n",
    "    shutil.rmtree('./graphene-B-v7v8')\n",
    "    os.mkdir('./graphene-B-v7v8')"
   ]
  },
  {
   "cell_type": "code",
   "execution_count": 7,
   "metadata": {},
   "outputs": [],
   "source": [
    "idx = 1241\n",
    "for _, c in enumerate(confs):\n",
    "    c = c.get_primitive_cell()\n",
    "    filename = '{:s}_id{:d}'.format(comment, idx)\n",
    "    file = os.path.join('./graphene-B-v7v8', filename)\n",
    "    write_vasp(c, file)\n",
    "    idx += 1"
   ]
  }
 ],
 "metadata": {
  "kernelspec": {
   "display_name": "Python 3",
   "language": "python",
   "name": "python3"
  },
  "language_info": {
   "codemirror_mode": {
    "name": "ipython",
    "version": 3
   },
   "file_extension": ".py",
   "mimetype": "text/x-python",
   "name": "python",
   "nbconvert_exporter": "python",
   "pygments_lexer": "ipython3",
   "version": "3.6.5"
  }
 },
 "nbformat": 4,
 "nbformat_minor": 2
}
