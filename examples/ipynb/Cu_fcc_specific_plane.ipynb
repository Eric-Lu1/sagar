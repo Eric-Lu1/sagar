{
 "cells": [
  {
   "cell_type": "markdown",
   "metadata": {},
   "source": [
    "## 该notebook用于替换某一个特定晶面上的原子"
   ]
  },
  {
   "cell_type": "code",
   "execution_count": 1,
   "metadata": {},
   "outputs": [],
   "source": [
    "from pyyabc.io.vasp import read_vasp, write_vasp\n",
    "from pyyabc.crystal.structure import symbol2number as s2n\n",
    "import numpy\n",
    "import os, shutil\n",
    "from pyyabc.toolkit.derivetool import remove_redundant\n",
    "from pyyabc.crystal.derive import PermutationGroup\n",
    "from pyyabc.crystal.structure import Cell"
   ]
  },
  {
   "cell_type": "code",
   "execution_count": 2,
   "metadata": {},
   "outputs": [],
   "source": [
    "symprec = 1e-3\n",
    "comprec = 1e-3\n",
    "\n",
    "substitutes = 'Fe'\n",
    "\n",
    "comment = 'CuxFe'\n",
    "folder = 'CuFe_101-plane'\n",
    "\n",
    "# hkl-index\n",
    "plane_index = [1, 0, 1]\n",
    "\n",
    "# In[4]:\n",
    "\n",
    "cell = read_vasp(\"./Cu_fcc.vasp\")"
   ]
  },
  {
   "cell_type": "markdown",
   "metadata": {},
   "source": [
    "#### 创建一个文件夹"
   ]
  },
  {
   "cell_type": "code",
   "execution_count": 3,
   "metadata": {},
   "outputs": [],
   "source": [
    "if not os.path.exists('./'+folder):\n",
    "    os.mkdir('./'+folder)\n",
    "else:\n",
    "    shutil.rmtree('./'+folder)\n",
    "    os.mkdir('./'+folder)"
   ]
  },
  {
   "cell_type": "markdown",
   "metadata": {},
   "source": [
    "### 主函数"
   ]
  },
  {
   "cell_type": "code",
   "execution_count": 4,
   "metadata": {},
   "outputs": [],
   "source": [
    "def main():\n",
    "    h = numpy.array([[2,0,0],[0,2,0],[0,0,2]])\n",
    "    hfpg = PermutationGroup(cell, h)\n",
    "    perms = hfpg.get_symmetry_perms(symprec)\n",
    "    supercell = cell.extend(h)\n",
    "    pos = supercell.positions\n",
    "    _sites = []\n",
    "    _tmp = 0\n",
    "    for ii in range(len(supercell.atoms)):\n",
    "        if numpy.dot(pos[ii], numpy.array(plane_index)) == 1:\n",
    "            _sites.append((supercell.atoms[ii], s2n(substitutes)))\n",
    "            _tmp += 1\n",
    "        else:\n",
    "            _sites.append((supercell.atoms[ii],))\n",
    "        e_num = [_tmp - 4, 4]\n",
    "    for mol, d in remove_redundant(supercell.positions, _sites, perms, e_num):\n",
    "        c = Cell(supercell.lattice, mol[0], mol[1])\n",
    "        yield (c, d)"
   ]
  },
  {
   "cell_type": "markdown",
   "metadata": {},
   "source": [
    "### 写入POSCRA"
   ]
  },
  {
   "cell_type": "code",
   "execution_count": 5,
   "metadata": {},
   "outputs": [],
   "source": [
    "idx = 0\n",
    "for c, _ in main():\n",
    "    filepath = os.path.join('./'+folder, '{:s}_id{:d}'.format(comment, idx))\n",
    "    write_vasp(c, filepath)       \n",
    "    idx += 1\n"
   ]
  }
 ],
 "metadata": {
  "kernelspec": {
   "display_name": "Python 3",
   "language": "python",
   "name": "python3"
  },
  "language_info": {
   "codemirror_mode": {
    "name": "ipython",
    "version": 3
   },
   "file_extension": ".py",
   "mimetype": "text/x-python",
   "name": "python",
   "nbconvert_exporter": "python",
   "pygments_lexer": "ipython3",
   "version": "3.6.5"
  }
 },
 "nbformat": 4,
 "nbformat_minor": 2
}
