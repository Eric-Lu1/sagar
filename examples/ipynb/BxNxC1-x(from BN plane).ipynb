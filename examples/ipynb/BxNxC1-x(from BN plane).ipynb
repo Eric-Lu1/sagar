{
 "cells": [
  {
   "cell_type": "code",
   "execution_count": 1,
   "metadata": {},
   "outputs": [],
   "source": [
    "from pyabc.crystal.utils import non_dup_hnfs\n",
    "from pyabc.io.vasp import read_vasp, write_vasp\n",
    "from pyabc.crystal.structure import symbol2number as s2n\n",
    "from pyabc.crystal.derive import ConfigurationGenerator, PermutationGroup\n",
    "\n",
    "import os\n",
    "import shutil\n",
    "import numpy"
   ]
  },
  {
   "cell_type": "code",
   "execution_count": 2,
   "metadata": {},
   "outputs": [],
   "source": [
    "def _get_sites(l_atoms, ele, l_sub):\n",
    "    ele_n = s2n(ele)\n",
    "    l_sub_n = [s2n(sub_n) for sub_n in l_sub]\n",
    "    sites = []\n",
    "    for a in l_atoms:\n",
    "        if a == ele_n:\n",
    "            sites.append(tuple([a] + l_sub_n))\n",
    "        else:\n",
    "            sites.append(tuple([a]))\n",
    "    return sites"
   ]
  },
  {
   "cell_type": "code",
   "execution_count": 3,
   "metadata": {},
   "outputs": [],
   "source": [
    "symprec = 1e-3\n",
    "comprec = 1e-3\n",
    "\n",
    "dimension = 2\n",
    "\n",
    "comment = 'BxNxCy-FROM-BN'"
   ]
  },
  {
   "cell_type": "code",
   "execution_count": 4,
   "metadata": {},
   "outputs": [],
   "source": [
    "cell = read_vasp(\"./BN-relax.vasp\")\n",
    "cg = ConfigurationGenerator(cell, symprec)"
   ]
  },
  {
   "cell_type": "code",
   "execution_count": 5,
   "metadata": {},
   "outputs": [],
   "source": [
    "if not os.path.exists('./BNC-from-BN'):\n",
    "    os.mkdir('./BNC-from-BN')\n",
    "else:\n",
    "    shutil.rmtree('./BNC-from-BN')\n",
    "    os.mkdir('./BNC-from-BN')"
   ]
  },
  {
   "cell_type": "code",
   "execution_count": 6,
   "metadata": {},
   "outputs": [],
   "source": [
    "idx = 0\n",
    "\n",
    "# 在两重循环中分别替换B和N\n",
    "# 此处产生四个C的所有结构，也就是分子式为：B14N14C4的所有结构\n",
    "# e_num = (13, 3)\n",
    "\n",
    "# 以BN 4x4平面作为初始构型\n",
    "\n",
    "# 首先以C替换B\n",
    "for i in range(1, 4):\n",
    "    e_num = (16-i, i)\n",
    "    element = 'B'\n",
    "    substitutes = 'C'\n",
    "    supercell = cell\n",
    "    sites = _get_sites(supercell.atoms.tolist(), element, substitutes)\n",
    "    cg = ConfigurationGenerator(supercell, symprec)\n",
    "    for c, _ in cg.cons_specific_cell(sites, e_num=e_num, symprec=symprec):\n",
    "        # 对于新得到的结构，使用C替换N\n",
    "        supercell = c\n",
    "        element = 'N'\n",
    "        substitutes = 'C'\n",
    "        sites = _get_sites(supercell.atoms.tolist(), element, substitutes)\n",
    "        cg = ConfigurationGenerator(supercell, symprec)\n",
    "        for c, _ in cg.cons_specific_cell(sites, e_num=e_num, symprec=symprec):\n",
    "            filename = '{:s}_id{:d}'.format(comment, idx)\n",
    "            idx += 1\n",
    "            file = os.path.join('./BNC-from-BN', filename)\n",
    "    #         print(c)\n",
    "            write_vasp(c, file)"
   ]
  }
 ],
 "metadata": {
  "kernelspec": {
   "display_name": "Python 3",
   "language": "python",
   "name": "python3"
  },
  "language_info": {
   "codemirror_mode": {
    "name": "ipython",
    "version": 3
   },
   "file_extension": ".py",
   "mimetype": "text/x-python",
   "name": "python",
   "nbconvert_exporter": "python",
   "pygments_lexer": "ipython3",
   "version": "3.7.0"
  }
 },
 "nbformat": 4,
 "nbformat_minor": 2
}
