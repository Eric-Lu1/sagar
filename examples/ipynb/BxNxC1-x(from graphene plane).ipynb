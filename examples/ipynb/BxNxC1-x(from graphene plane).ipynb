{
 "cells": [
  {
   "cell_type": "code",
   "execution_count": 1,
   "metadata": {},
   "outputs": [],
   "source": [
    "from pyabc.crystal.utils import non_dup_hnfs\n",
    "from pyabc.io.vasp import read_vasp, write_vasp\n",
    "from pyabc.crystal.structure import symbol2number as s2n\n",
    "from pyabc.crystal.derive import ConfigurationGenerator, PermutationGroup\n",
    "\n",
    "import os\n",
    "import shutil"
   ]
  },
  {
   "cell_type": "code",
   "execution_count": 2,
   "metadata": {},
   "outputs": [],
   "source": [
    "def _get_sites(l_atoms, ele, l_sub):\n",
    "    ele_n = s2n(ele)\n",
    "    l_sub_n = [s2n(sub_n) for sub_n in l_sub]\n",
    "    sites = []\n",
    "    for a in l_atoms:\n",
    "        if a == ele_n:\n",
    "            sites.append(tuple([a] + l_sub_n))\n",
    "        else:\n",
    "            sites.append(tuple([a]))\n",
    "    return sites"
   ]
  },
  {
   "cell_type": "code",
   "execution_count": 3,
   "metadata": {},
   "outputs": [],
   "source": [
    "symprec = 1e-3\n",
    "comprec = 1e-3\n",
    "\n",
    "dimension = 2\n",
    "min_v = 7\n",
    "max_v = 8\n",
    "\n",
    "element = 'C'\n",
    "substitutes = ['B', 'N']\n",
    "comment = 'BxNxCy'"
   ]
  },
  {
   "cell_type": "code",
   "execution_count": 4,
   "metadata": {},
   "outputs": [],
   "source": [
    "cell = read_vasp(\"./graphene.vasp\")\n",
    "cg = ConfigurationGenerator(cell, symprec)"
   ]
  },
  {
   "cell_type": "code",
   "execution_count": 5,
   "metadata": {},
   "outputs": [],
   "source": [
    "if not os.path.exists('./BN-C-7to8'):\n",
    "    os.mkdir('./BN-C-7to8')\n",
    "else:\n",
    "    shutil.rmtree('./BN-C-7to8')\n",
    "    os.mkdir('./BN-C-7to8')"
   ]
  },
  {
   "cell_type": "code",
   "execution_count": 6,
   "metadata": {},
   "outputs": [],
   "source": [
    "idx = 15840\n",
    "for volume in range(min_v, max_v + 1):\n",
    "    hnfs = non_dup_hnfs(cell, volume, dimension, symprec)\n",
    "    for h in hnfs:\n",
    "        hfpg = PermutationGroup(cell, h)\n",
    "        perms = hfpg.get_symmetry_perms(symprec)\n",
    "        \n",
    "        supercell = cell.extend(h)\n",
    "        sites = _get_sites(supercell.atoms.tolist(), element, substitutes)\n",
    "        num_ele = len(supercell.atoms)\n",
    "        for bn in range(1, num_ele//2):\n",
    "            e_num = (num_ele-2*bn, bn, bn)\n",
    "            for c, _ in cg._remove_redundant(supercell, sites,\n",
    "                                              perms, e_num=e_num, remove_super=True):\n",
    "                c = c.get_primitive_cell()\n",
    "                filename = '{:s}_id{:d}'.format(comment, idx)\n",
    "                idx += 1\n",
    "                file = os.path.join('./BN-C-7to8', filename)\n",
    "                write_vasp(c, file)"
   ]
  }
 ],
 "metadata": {
  "kernelspec": {
   "display_name": "Python 3",
   "language": "python",
   "name": "python3"
  },
  "language_info": {
   "codemirror_mode": {
    "name": "ipython",
    "version": 3
   },
   "file_extension": ".py",
   "mimetype": "text/x-python",
   "name": "python",
   "nbconvert_exporter": "python",
   "pygments_lexer": "ipython3",
   "version": "3.6.5"
  }
 },
 "nbformat": 4,
 "nbformat_minor": 2
}
